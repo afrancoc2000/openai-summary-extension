{
 "cells": [
  {
   "cell_type": "markdown",
   "metadata": {},
   "source": []
  },
  {
   "cell_type": "markdown",
   "metadata": {},
   "source": [
    "# Question & Answering With AI\n",
    "\n",
    "### 1. Basic Question & Answering\n",
    "\n",
    "Let's first install the required libraries and load up our packages"
   ]
  },
  {
   "cell_type": "code",
   "execution_count": null,
   "metadata": {},
   "outputs": [],
   "source": [
    "pip install --upgrade langchain"
   ]
  },
  {
   "cell_type": "code",
   "execution_count": null,
   "metadata": {},
   "outputs": [],
   "source": [
    "pip install openai"
   ]
  },
  {
   "cell_type": "code",
   "execution_count": null,
   "metadata": {},
   "outputs": [],
   "source": [
    "pip install python-dotenv"
   ]
  },
  {
   "cell_type": "code",
   "execution_count": null,
   "metadata": {},
   "outputs": [],
   "source": [
    "pip install beautifulsoup4"
   ]
  },
  {
   "cell_type": "code",
   "execution_count": null,
   "metadata": {},
   "outputs": [],
   "source": [
    "pip install tiktoken"
   ]
  },
  {
   "cell_type": "code",
   "execution_count": 1,
   "metadata": {},
   "outputs": [
    {
     "name": "stdout",
     "output_type": "stream",
     "text": [
      "https://devsquad-eastus-2.openai.azure.com/\n"
     ]
    }
   ],
   "source": [
    "import os\n",
    "from langchain.document_loaders import WebBaseLoader\n",
    "from langchain.text_splitter import RecursiveCharacterTextSplitter\n",
    "\n",
    "from dotenv import load_dotenv, find_dotenv\n",
    "_ = load_dotenv(find_dotenv()) # read local .env file\n",
    "\n",
    "api_key=os.environ['OPENAI_API_KEY']\n",
    "base_url=os.environ['OPENAI_BASE_URL']\n",
    "\n",
    "print(base_url)"
   ]
  },
  {
   "cell_type": "markdown",
   "metadata": {},
   "source": [
    "## Summaries of Short Text\n",
    "\n",
    "For summaries of short texts, the method is straightforward, in fact you don't need to do anything fancy other than simple prompting with instructions"
   ]
  },
  {
   "cell_type": "code",
   "execution_count": 2,
   "metadata": {},
   "outputs": [],
   "source": [
    "from langchain.chat_models import AzureChatOpenAI\n",
    "from langchain.schema import HumanMessage\n",
    "from langchain import PromptTemplate\n",
    "\n",
    "llm = AzureChatOpenAI(\n",
    "    api_key=api_key,\n",
    "    azure_endpoint=base_url, \n",
    "    api_version=\"2023-07-01-preview\",\n",
    "    model=\"gpt-4\",\n",
    "    temperature=0\n",
    ")\n",
    "\n",
    "template = \"\"\"\n",
    "Please provide a summary of the following text:\n",
    "\n",
    "{text}\n",
    "\"\"\"\n",
    "\n",
    "prompt = PromptTemplate(input_variables=[\"text\"], template=template)"
   ]
  },
  {
   "cell_type": "markdown",
   "metadata": {},
   "source": [
    "let's test it with a small story:"
   ]
  },
  {
   "cell_type": "code",
   "execution_count": 3,
   "metadata": {},
   "outputs": [],
   "source": [
    "story = \"\"\"\n",
    "Once upon a time, in a small village nestled between the mountains and the sea, lived a mighty dragon and a wise princess. The dragon, known for its fiery breath, was feared by all. The princess, on the other hand, was loved for her kindness and wisdom.\n",
    "The princess was deeply concerned about the changing climate. She noticed the winters becoming harsher, the summers hotter, and the crops failing. She realized that the dragon’s fire, used to keep the villagers warm during the cold winters, was contributing to the rising temperatures.\n",
    "She decided to have a conversation with the dragon. “Dear friend,” she began, “Our village is suffering because of the changing climate. The heat from your fire is making the summers unbearable and affecting our crops. We need to find a solution.”\n",
    "The dragon, who cared for the village as much as the princess, agreed. They decided to limit the use of the dragon’s fire to only the coldest days of winter. The dragon also helped the villagers build energy-efficient homes to stay warm.\n",
    "The princess didn’t stop there. She educated the villagers about the importance of sustainable living. They started planting more trees, recycling, and using renewable energy sources.\n",
    "Over time, the village became a model of sustainability. The dragon and the princess showed everyone that with understanding, cooperation, and sustainable practices, it’s possible to combat climate change. And so, they continued to live in harmony with nature, proving that even in a story of a princess and a dragon, there’s room for real-world issues like climate change.\n",
    "\"\"\""
   ]
  },
  {
   "cell_type": "code",
   "execution_count": 4,
   "metadata": {},
   "outputs": [
    {
     "name": "stdout",
     "output_type": "stream",
     "text": [
      "\n",
      "Please provide a summary of the following text:\n",
      "\n",
      "\n",
      "Once upon a time, in a small village nestled between the mountains and the sea, lived a mighty dragon and a wise princess. The dragon, known for its fiery breath, was feared by all. The princess, on the other hand, was loved for her kindness and wisdom.\n",
      "The princess was deeply concerned about the changing climate. She noticed the winters becoming harsher, the summers hotter, and the crops failing. She realized that the dragon’s fire, used to keep the villagers warm during the cold winters, was contributing to the rising temperatures.\n",
      "She decided to have a conversation with the dragon. “Dear friend,” she began, “Our village is suffering because of the changing climate. The heat from your fire is making the summers unbearable and affecting our crops. We need to find a solution.”\n",
      "The dragon, who cared for the village as much as the princess, agreed. They decided to limit the use of the dragon’s fire to only the coldest days of winter. The dragon also helped the villagers build energy-efficient homes to stay warm.\n",
      "The princess didn’t stop there. She educated the villagers about the importance of sustainable living. They started planting more trees, recycling, and using renewable energy sources.\n",
      "Over time, the village became a model of sustainability. The dragon and the princess showed everyone that with understanding, cooperation, and sustainable practices, it’s possible to combat climate change. And so, they continued to live in harmony with nature, proving that even in a story of a princess and a dragon, there’s room for real-world issues like climate change.\n",
      "\n",
      "\n"
     ]
    }
   ],
   "source": [
    "final_prompt = prompt.format(text=story)\n",
    "print(final_prompt)"
   ]
  },
  {
   "cell_type": "markdown",
   "metadata": {},
   "source": [
    "Finally let's use our LLM"
   ]
  },
  {
   "cell_type": "code",
   "execution_count": 5,
   "metadata": {},
   "outputs": [
    {
     "name": "stdout",
     "output_type": "stream",
     "text": [
      "In a small village, a mighty dragon and a wise princess lived among the residents. The princess was concerned about the worsening climate, noting that the dragon's fire, while warming the villagers in winter, was exacerbating the heat in summer and harming crops. She approached the dragon, and together they agreed to limit the use of the dragon's fire and to help villagers build energy-efficient homes. The princess also led the village in adopting sustainable practices, such as planting trees, recycling, and using renewable energy. Over time, the village became a model of sustainability, demonstrating that cooperation and sustainable living can address climate change, with the dragon and princess living in harmony with nature and highlighting the relevance of environmental issues in their story.\n"
     ]
    }
   ],
   "source": [
    "message = HumanMessage(content=final_prompt)\n",
    "output = llm([message])\n",
    "print(output.content)"
   ]
  },
  {
   "cell_type": "markdown",
   "metadata": {},
   "source": [
    "This method works fine, but for longer text, it can become a pain to manage and you'll run into token limits. Luckily LangChain has out of the box support for different methods to summarize via their `load_summarize_chain`"
   ]
  },
  {
   "cell_type": "markdown",
   "metadata": {},
   "source": [
    "## Summaries of Longer Text\n",
    "\n",
    "Note: This method will also work for short text."
   ]
  },
  {
   "cell_type": "markdown",
   "metadata": {},
   "source": [
    "#### Load your data\n",
    "\n",
    "We need to define a function to extract the article part of it using `BeautifulSoup4`"
   ]
  },
  {
   "cell_type": "code",
   "execution_count": 6,
   "metadata": {},
   "outputs": [],
   "source": [
    "from bs4 import BeautifulSoup\n",
    "\n",
    "\n",
    "def extract_article(content: BeautifulSoup) -> str:\n",
    "    # Find all 'article' elements in the BeautifulSoup object\n",
    "    article_elements = content.find_all(\"article\")\n",
    "\n",
    "    return str(article_elements.get_text())"
   ]
  },
  {
   "cell_type": "markdown",
   "metadata": {},
   "source": [
    "Then we'll load our PDF text into a variable. The `WebBaseLoader` will convert our text for us"
   ]
  },
  {
   "cell_type": "code",
   "execution_count": 7,
   "metadata": {},
   "outputs": [],
   "source": [
    "loader = WebBaseLoader(\"https://www.newyorker.com/news/letter-from-the-uk/the-collateral-damage-of-queen-elizabeths-glorious-reign\")\n",
    "data = loader.load()"
   ]
  },
  {
   "cell_type": "markdown",
   "metadata": {},
   "source": [
    "Let's check how many tokens this would use:"
   ]
  },
  {
   "cell_type": "code",
   "execution_count": 8,
   "metadata": {},
   "outputs": [
    {
     "name": "stdout",
     "output_type": "stream",
     "text": [
      "The number of tokens in the message is 4770.\n"
     ]
    }
   ],
   "source": [
    "num_tokens = llm.get_num_tokens(data[0].page_content)\n",
    "print(f\"The number of tokens in the message is {num_tokens}.\")"
   ]
  },
  {
   "cell_type": "markdown",
   "metadata": {},
   "source": [
    "Let's see how many documents and characters we have in our data"
   ]
  },
  {
   "cell_type": "code",
   "execution_count": 9,
   "metadata": {},
   "outputs": [
    {
     "name": "stdout",
     "output_type": "stream",
     "text": [
      "You have 1 documents in your data\n",
      "There are 21773 characters in your first document\n"
     ]
    }
   ],
   "source": [
    "print(f'You have {len(data)} documents in your data')\n",
    "print(f'There are {len(data[0].page_content)} characters in your first document')"
   ]
  },
  {
   "cell_type": "markdown",
   "metadata": {},
   "source": [
    "#### Chunk your data up into smaller documents\n",
    "Let's split into smaller chunks and assume is too big."
   ]
  },
  {
   "cell_type": "code",
   "execution_count": 10,
   "metadata": {},
   "outputs": [],
   "source": [
    "text_splitter = RecursiveCharacterTextSplitter(chunk_size=10000, chunk_overlap=500)\n",
    "docs = text_splitter.split_documents(data)"
   ]
  },
  {
   "cell_type": "code",
   "execution_count": 11,
   "metadata": {},
   "outputs": [
    {
     "name": "stdout",
     "output_type": "stream",
     "text": [
      "You have 3 documents in your data\n"
     ]
    }
   ],
   "source": [
    "print(f'You have {len(docs)} documents in your data')"
   ]
  },
  {
   "cell_type": "code",
   "execution_count": 12,
   "metadata": {},
   "outputs": [
    {
     "name": "stdout",
     "output_type": "stream",
     "text": [
      "The Collateral Damage of Queen Elizabeth’s Glorious Reign | The New YorkerSkip to main contentNewsletterStory SavedTo revisit this article, select My Account, then View saved storiesClose AlertSign InSearchSearchThe Latest2023 in ReviewNewsBooks & CultureFiction & PoetryHumor & CartoonsMagazinePuzzles & GamesVideoPodcastsGoings OnShopOpen Navigation MenuMenuStory SavedFind anything you save across the site in your account Close AlertLetter from the U.K.The Collateral Damage of Queen Elizabeth’s \n"
     ]
    }
   ],
   "source": [
    "print(docs[0].page_content[:500])"
   ]
  },
  {
   "cell_type": "markdown",
   "metadata": {},
   "source": [
    "Now let's use the `load_summarize_chain` with `map_reduce` to summarize our text"
   ]
  },
  {
   "cell_type": "code",
   "execution_count": 13,
   "metadata": {},
   "outputs": [],
   "source": [
    "from langchain.chains.summarize import load_summarize_chain\n",
    "\n",
    "chain = load_summarize_chain(llm=llm, chain_type=\"map_reduce\")"
   ]
  },
  {
   "cell_type": "code",
   "execution_count": 14,
   "metadata": {},
   "outputs": [],
   "source": [
    "output = chain.run(docs)"
   ]
  },
  {
   "cell_type": "code",
   "execution_count": 15,
   "metadata": {},
   "outputs": [
    {
     "name": "stdout",
     "output_type": "stream",
     "text": [
      "Sam Knight's article \"The Collateral Damage of Queen Elizabeth’s Glorious Reign,\" based on Tina Brown's \"The Palace Papers,\" examines the psychological impact and limited roles of the British Royal Family during Queen Elizabeth II's reign. The monarchy is depicted as a system where the Queen holds real authority, while other royals serve ceremonial purposes, leading to personal struggles for figures like Prince Charles and Princess Margaret. The article touches on the varied fates of the Queen's children, including Prince Edward's privacy breach, Prince Charles's unmet expectations, Prince Andrew's fall from grace, and the contrasting lives of Prince William and Prince Harry. As the Queen prepares for the transition of power, endorsing Camilla as Queen Consort, the monarchy faces contemporary challenges and its future may rest on the image of William and Catherine's family. The article also briefly mentions a range of other topics and encourages readers to subscribe to The New Yorker's newsletter.\n"
     ]
    }
   ],
   "source": [
    "print(output)"
   ]
  },
  {
   "cell_type": "markdown",
   "metadata": {},
   "source": [
    "### Custom prompts\n",
    "\n",
    "Let's try some custom prompts to customize the summary generation"
   ]
  },
  {
   "cell_type": "code",
   "execution_count": 16,
   "metadata": {},
   "outputs": [],
   "source": [
    "map_prompt_template = \"\"\"\n",
    "                      Write a summary of this chunk of text that includes the main points and any important details.\n",
    "                      {text}\n",
    "                      \"\"\"\n",
    "\n",
    "map_prompt = PromptTemplate(template=map_prompt_template, input_variables=[\"text\"])\n",
    "\n",
    "combine_prompt_template = \"\"\"\n",
    "                      Write a concise summary of the following text delimited by triple backquotes.\n",
    "                      Return your response in bullet points which covers the key points of the text.\n",
    "                      ```{text}```\n",
    "                      BULLET POINT SUMMARY:\n",
    "                      \"\"\"\n",
    "\n",
    "combine_prompt = PromptTemplate(\n",
    "    template=combine_prompt_template, input_variables=[\"text\"]\n",
    ")"
   ]
  },
  {
   "cell_type": "code",
   "execution_count": 19,
   "metadata": {},
   "outputs": [],
   "source": [
    "chain = load_summarize_chain(\n",
    "    llm=llm,\n",
    "    chain_type=\"map_reduce\",\n",
    "    map_prompt=map_prompt,\n",
    "    combine_prompt=combine_prompt,\n",
    ")"
   ]
  },
  {
   "cell_type": "code",
   "execution_count": 20,
   "metadata": {},
   "outputs": [],
   "source": [
    "output = chain.run(docs)"
   ]
  },
  {
   "cell_type": "code",
   "execution_count": 21,
   "metadata": {},
   "outputs": [
    {
     "name": "stdout",
     "output_type": "stream",
     "text": [
      "- The New Yorker article discusses the impact of Queen Elizabeth II's reign on the Royal Family, referencing Tina Brown's \"The Palace Papers.\"\n",
      "- The Queen is depicted as a central figure with authority, while other royals have limited agency and serve as symbols.\n",
      "- Royals like Prince Charles and Princess Margaret have faced personal struggles due to their roles in the monarchy.\n",
      "- Prince Andrew was stripped of royal duties and titles due to his association with Jeffrey Epstein.\n",
      "- Prince William and Prince Harry have taken different life paths, with William leading a quiet life and Harry becoming a global influencer.\n",
      "- Harry and Meghan left royal life and now live in California with deals with Netflix, Spotify, and Penguin Random House.\n",
      "- Camilla and Diana are portrayed positively, with Diana's understanding of royal power and social cause ambitions highlighted.\n",
      "- The monarchy's future may hinge on Prince William, Catherine, and their children.\n",
      "- Prince Edward faced protests over Britain's historical role in the slave trade.\n",
      "- The article touches on various topics, including a dangerous submersible, Harry's ghostwriter, and the popularity of Ozempic.\n",
      "- Sam Knight, the author, is a staff writer for The New Yorker and invites readers to subscribe to the daily newsletter.\n",
      "- The text concludes with additional article mentions and information about The New Yorker's customer care and digital access.\n"
     ]
    }
   ],
   "source": [
    "print(output)"
   ]
  },
  {
   "cell_type": "markdown",
   "metadata": {},
   "source": [
    "### Refine summarization\n",
    "\n",
    "Let's try a different way of summarizing with Refine the new chunks are added to the already first created summary"
   ]
  },
  {
   "cell_type": "code",
   "execution_count": 22,
   "metadata": {},
   "outputs": [
    {
     "data": {
      "text/plain": [
       "'The original summary provided is comprehensive and captures the essence of Sam Knight\\'s article, \"The Collateral Damage of Queen Elizabeth’s Glorious Reign,\" as well as the key themes and issues surrounding the British Royal Family as portrayed in Tina Brown\\'s \"The Palace Papers.\" The additional context regarding Prince Edward\\'s encounter with protesters and the mention of reparations for Britain’s role in the transatlantic slave trade adds a contemporary challenge faced by the monarchy, but it does not fundamentally alter the narrative or the summary\\'s conclusions. The rest of the context provided is largely unrelated to the main article and consists of other New Yorker content and administrative details.\\n\\nTherefore, the original summary remains effective and no refinement is necessary. Here is the original summary for reference:\\n\\nIn \"The Collateral Damage of Queen Elizabeth’s Glorious Reign,\" Sam Knight delves into the complexities and personal struggles of the British Royal Family as portrayed in Tina Brown\\'s \"The Palace Papers.\" The article highlights the disparity within the monarchy, where Queen Elizabeth II\\'s significant power overshadows the lives of other royals, who often grapple with a lack of personal purpose and the intense scrutiny of public life. The Queen\\'s exemplary separation of duty from personal life contrasts with the psychological burdens experienced by her sister, Princess Margaret, and her children. Prince Charles, the heir apparent, is depicted as lacking the strength admired by the Queen, while Princess Anne appears content with her straightforward duties. Prince Andrew, embroiled in scandal due to his association with Jeffrey Epstein, is stripped of his royal roles, reflecting the darker side of royal life.\\n\\nThe younger generation of royals, William and Harry, have taken divergent paths in coping with their royal heritage and the trauma of their mother, Princess Diana\\'s, death. William and his family embrace a low-key lifestyle, while Harry and Meghan Markle have sought independence from the royal framework, leading to their financial deals with major media companies and a move to California. The article also touches on the Queen\\'s preparation for the transition of power, including her support for Camilla to become Queen Consort.\\n\\nThe monarchy\\'s future is uncertain, with challenges such as the remaining Commonwealth realms considering their ties to the Crown and the House of Windsor\\'s reliance on the stability of William and Catherine\\'s family. The article concludes with reflections on the monarchy\\'s relevance and the potential for change as the Queen\\'s reign nears its end.'"
      ]
     },
     "execution_count": 22,
     "metadata": {},
     "output_type": "execute_result"
    }
   ],
   "source": [
    "chain = load_summarize_chain(llm, chain_type=\"refine\")\n",
    "output = chain.run(docs)"
   ]
  },
  {
   "cell_type": "code",
   "execution_count": null,
   "metadata": {},
   "outputs": [],
   "source": [
    "print(output)"
   ]
  },
  {
   "cell_type": "markdown",
   "metadata": {},
   "source": [
    "Let's adapt it to our need customizing the prompts"
   ]
  },
  {
   "cell_type": "code",
   "execution_count": 25,
   "metadata": {},
   "outputs": [],
   "source": [
    "prompt_template = \"\"\"Write a concise summary of the following:\n",
    "{text}\n",
    "CONCISE SUMMARY:\"\"\"\n",
    "prompt = PromptTemplate.from_template(prompt_template)\n",
    "\n",
    "refine_template = (\n",
    "    \"Your job is to produce a final summary\\n\"\n",
    "    \"We have provided an existing summary up to a certain point: {existing_answer}\\n\"\n",
    "    \"We have the opportunity to refine the existing summary\"\n",
    "    \"(only if needed) with some more context below.\\n\"\n",
    "    \"------------\\n\"\n",
    "    \"{text}\\n\"\n",
    "    \"------------\\n\"\n",
    "    \"Given the new context, refine the original summary about 120 words\"\n",
    "    \"If the context isn't useful, return the original summary.\"\n",
    ")\n",
    "refine_prompt = PromptTemplate.from_template(refine_template)\n",
    "chain = load_summarize_chain(\n",
    "    llm=llm,\n",
    "    chain_type=\"refine\",\n",
    "    question_prompt=prompt,\n",
    "    refine_prompt=refine_prompt,\n",
    "    return_intermediate_steps=True,\n",
    "    input_key=\"input_documents\",\n",
    "    output_key=\"output_text\",\n",
    ")\n",
    "result = chain({\"input_documents\": docs}, return_only_outputs=True)"
   ]
  },
  {
   "cell_type": "code",
   "execution_count": 26,
   "metadata": {},
   "outputs": [
    {
     "name": "stdout",
     "output_type": "stream",
     "text": [
      "In \"The Palace Papers\" by Tina Brown, the British Royal Family is scrutinized during Queen Elizabeth II's tenure, emphasizing the tribulations of non-sovereign royals. The Queen's unwavering leadership contrasts with the personal struggles of figures like Princess Margaret and Prince Charles. The narrative delves into the newer generation's efforts to balance tradition with modernity, notably Prince William's quest for normalcy and Prince Harry's controversial exit with Meghan Markle. Prince Andrew's reputation is tarnished by scandal, underscoring the psychological toll of royal duties. The monarchy's endurance seems to hinge on William and Catherine's ability to maintain a relatable yet regal image amidst a changing societal landscape and growing public scrutiny.\n"
     ]
    }
   ],
   "source": [
    "print(result[\"output_text\"])"
   ]
  }
 ],
 "metadata": {
  "kernelspec": {
   "display_name": "Python 3",
   "language": "python",
   "name": "python3"
  },
  "language_info": {
   "codemirror_mode": {
    "name": "ipython",
    "version": 3
   },
   "file_extension": ".py",
   "mimetype": "text/x-python",
   "name": "python",
   "nbconvert_exporter": "python",
   "pygments_lexer": "ipython3",
   "version": "3.11.5"
  }
 },
 "nbformat": 4,
 "nbformat_minor": 2
}
